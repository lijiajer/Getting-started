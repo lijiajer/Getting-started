{
 "cells": [
  {
   "cell_type": "code",
   "execution_count": 5,
   "id": "dfbf6fc0-699a-49d3-bc6e-61d169d84791",
   "metadata": {},
   "outputs": [],
   "source": [
    "print:\"hello world\""
   ]
  },
  {
   "cell_type": "code",
   "execution_count": null,
   "id": "cac0e5dd-a4cc-4764-a5ee-49474cfa149b",
   "metadata": {},
   "outputs": [],
   "source": []
  },
  {
   "cell_type": "code",
   "execution_count": null,
   "id": "b4b75ba2",
   "metadata": {},
   "outputs": [],
   "source": []
  }
 ],
 "metadata": {
  "kernelspec": {
   "display_name": "Python 3",
   "language": "python",
   "name": "python3"
  },
  "language_info": {
   "codemirror_mode": {
    "name": "ipython",
    "version": 3
   },
   "file_extension": ".py",
   "mimetype": "text/x-python",
   "name": "python",
   "nbconvert_exporter": "python",
   "pygments_lexer": "ipython3",
   "version": "3.8.8"
  }
 },
 "nbformat": 4,
 "nbformat_minor": 5
}
